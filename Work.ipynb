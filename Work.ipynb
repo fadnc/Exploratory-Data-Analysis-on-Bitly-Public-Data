{
 "cells": [
  {
   "cell_type": "code",
   "execution_count": null,
   "id": "ec8586a3",
   "metadata": {},
   "outputs": [],
   "source": [
    "import json\n",
    "import numpy as np\n",
    "import pandas as pd"
   ]
  },
  {
   "cell_type": "code",
   "execution_count": 18,
   "id": "a071efe2",
   "metadata": {},
   "outputs": [],
   "source": [
    "import os\n",
    "for dirname, _, filenames in os.walk('/kaggle/input'):\n",
    "    for filename in filenames:\n",
    "        print(os.path.join(dirname, filename))\n"
   ]
  },
  {
   "cell_type": "markdown",
   "id": "c0dcaf19",
   "metadata": {},
   "source": [
    "<spans style=\"font-size:24px;font-weight:bold\">\n",
    "Loading the Data\n",
    "</span>"
   ]
  },
  {
   "cell_type": "code",
   "execution_count": 19,
   "id": "6ff83b81",
   "metadata": {},
   "outputs": [],
   "source": [
    "file_path=r\"D:\\PRJKT\\py\\example.txt\"\n",
    "with open(file_path) as f:\n",
    "    line=f.readline()\n",
    "    "
   ]
  },
  {
   "cell_type": "code",
   "execution_count": 20,
   "id": "abcd2d36",
   "metadata": {},
   "outputs": [
    {
     "data": {
      "text/plain": [
       "{'a': 'Mozilla/5.0 (Windows NT 6.1; WOW64) AppleWebKit/535.11 (KHTML, like Gecko) Chrome/17.0.963.78 Safari/535.11',\n",
       " 'c': 'US',\n",
       " 'nk': 1,\n",
       " 'tz': 'America/New_York',\n",
       " 'gr': 'MA',\n",
       " 'g': 'A6qOVH',\n",
       " 'h': 'wfLQtf',\n",
       " 'l': 'orofrog',\n",
       " 'al': 'en-US,en;q=0.8',\n",
       " 'hh': '1.usa.gov',\n",
       " 'r': 'http://www.facebook.com/l/7AQEFzjSi/1.usa.gov/wfLQtf',\n",
       " 'u': 'http://www.ncbi.nlm.nih.gov/pubmed/22415991',\n",
       " 't': 1331923247,\n",
       " 'hc': 1331822918,\n",
       " 'cy': 'Danvers',\n",
       " 'll': [42.576698, -70.954903]}"
      ]
     },
     "execution_count": 20,
     "metadata": {},
     "output_type": "execute_result"
    }
   ],
   "source": [
    "with open(file_path) as f:\n",
    "    result=[json.loads(line) for line in f]\n",
    "result[0]"
   ]
  },
  {
   "cell_type": "markdown",
   "id": "7aa857bd",
   "metadata": {},
   "source": [
    "<span style=\"font-size:24px;font-weight:bold\">\n",
    "Calculating Top Time Zones of the Data\n",
    "</span>"
   ]
  },
  {
   "cell_type": "code",
   "execution_count": 21,
   "id": "45f438af",
   "metadata": {},
   "outputs": [
    {
     "data": {
      "application/vnd.microsoft.datawrangler.viewer.v0+json": {
       "columns": [
        {
         "name": "index",
         "rawType": "int64",
         "type": "integer"
        },
        {
         "name": "a",
         "rawType": "object",
         "type": "string"
        },
        {
         "name": "c",
         "rawType": "object",
         "type": "unknown"
        },
        {
         "name": "nk",
         "rawType": "float64",
         "type": "float"
        },
        {
         "name": "tz",
         "rawType": "object",
         "type": "string"
        },
        {
         "name": "gr",
         "rawType": "object",
         "type": "unknown"
        },
        {
         "name": "g",
         "rawType": "object",
         "type": "string"
        },
        {
         "name": "h",
         "rawType": "object",
         "type": "string"
        },
        {
         "name": "l",
         "rawType": "object",
         "type": "string"
        },
        {
         "name": "al",
         "rawType": "object",
         "type": "unknown"
        },
        {
         "name": "hh",
         "rawType": "object",
         "type": "string"
        },
        {
         "name": "r",
         "rawType": "object",
         "type": "string"
        },
        {
         "name": "u",
         "rawType": "object",
         "type": "string"
        },
        {
         "name": "t",
         "rawType": "float64",
         "type": "float"
        },
        {
         "name": "hc",
         "rawType": "float64",
         "type": "float"
        },
        {
         "name": "cy",
         "rawType": "object",
         "type": "unknown"
        },
        {
         "name": "ll",
         "rawType": "object",
         "type": "unknown"
        },
        {
         "name": "_heartbeat_",
         "rawType": "float64",
         "type": "float"
        },
        {
         "name": "kw",
         "rawType": "object",
         "type": "unknown"
        }
       ],
       "ref": "0734bd47-f2c7-4eed-bad4-ea417cea8b4f",
       "rows": [
        [
         "0",
         "Mozilla/5.0 (Windows NT 6.1; WOW64) AppleWebKit/535.11 (KHTML, like Gecko) Chrome/17.0.963.78 Safari/535.11",
         "US",
         "1.0",
         "America/New_York",
         "MA",
         "A6qOVH",
         "wfLQtf",
         "orofrog",
         "en-US,en;q=0.8",
         "1.usa.gov",
         "http://www.facebook.com/l/7AQEFzjSi/1.usa.gov/wfLQtf",
         "http://www.ncbi.nlm.nih.gov/pubmed/22415991",
         "1331923247.0",
         "1331822918.0",
         "Danvers",
         "[42.576698, -70.954903]",
         null,
         null
        ],
        [
         "1",
         "GoogleMaps/RochesterNY",
         "US",
         "0.0",
         "America/Denver",
         "UT",
         "mwszkS",
         "mwszkS",
         "bitly",
         null,
         "j.mp",
         "http://www.AwareMap.com/",
         "http://www.monroecounty.gov/etc/911/rss.php",
         "1331923249.0",
         "1308262393.0",
         "Provo",
         "[40.218102, -111.613297]",
         null,
         null
        ],
        [
         "2",
         "Mozilla/4.0 (compatible; MSIE 8.0; Windows NT 6.1; WOW64; Trident/4.0; SLCC2; .NET CLR 2.0.50727; .NET CLR 3.5.30729; .NET CLR 3.0.30729; Media Center PC 6.0; .NET4.0C; .NET4.0E; InfoPath.3)",
         "US",
         "1.0",
         "America/New_York",
         "DC",
         "xxr3Qb",
         "xxr3Qb",
         "bitly",
         "en-US",
         "1.usa.gov",
         "http://t.co/03elZC4Q",
         "http://boxer.senate.gov/en/press/releases/031612.cfm",
         "1331923250.0",
         "1331919941.0",
         "Washington",
         "[38.9007, -77.043098]",
         null,
         null
        ],
        [
         "3",
         "Mozilla/5.0 (Macintosh; Intel Mac OS X 10_6_8) AppleWebKit/534.52.7 (KHTML, like Gecko) Version/5.1.2 Safari/534.52.7",
         "BR",
         "0.0",
         "America/Sao_Paulo",
         "27",
         "zCaLwp",
         "zUtuOu",
         "alelex88",
         "pt-br",
         "1.usa.gov",
         "direct",
         "http://apod.nasa.gov/apod/ap120312.html",
         "1331923249.0",
         "1331923068.0",
         "Braz",
         "[-23.549999, -46.616699]",
         null,
         null
        ],
        [
         "4",
         "Mozilla/5.0 (Windows NT 6.1; WOW64) AppleWebKit/535.11 (KHTML, like Gecko) Chrome/17.0.963.79 Safari/535.11",
         "US",
         "0.0",
         "America/New_York",
         "MA",
         "9b6kNl",
         "9b6kNl",
         "bitly",
         "en-US,en;q=0.8",
         "bit.ly",
         "http://www.shrewsbury-ma.gov/selco/",
         "http://www.shrewsbury-ma.gov/egov/gallery/134127368672998.png",
         "1331923251.0",
         "1273672411.0",
         "Shrewsbury",
         "[42.286499, -71.714699]",
         null,
         null
        ],
        [
         "5",
         "Mozilla/5.0 (Windows NT 6.1; WOW64) AppleWebKit/535.11 (KHTML, like Gecko) Chrome/17.0.963.79 Safari/535.11",
         "US",
         "0.0",
         "America/New_York",
         "MA",
         "axNK8c",
         "axNK8c",
         "bitly",
         "en-US,en;q=0.8",
         "bit.ly",
         "http://www.shrewsbury-ma.gov/selco/",
         "http://www.shrewsbury-ma.gov/egov/gallery/134127368675393.png",
         "1331923252.0",
         "1273672506.0",
         "Shrewsbury",
         "[42.286499, -71.714699]",
         null,
         null
        ],
        [
         "6",
         "Mozilla/5.0 (Windows NT 5.1) AppleWebKit/535.11 (KHTML, like Gecko) Chrome/17.0.963.79 Safari/535.11",
         "PL",
         "0.0",
         "Europe/Warsaw",
         "77",
         "wcndER",
         "zkpJBR",
         "bnjacobs",
         "pl-PL,pl;q=0.8,en-US;q=0.6,en;q=0.4",
         "1.usa.gov",
         "http://plus.url.google.com/url?sa=z&n=1331923253510&url=http%3A%2F%2F1.usa.gov%2FzkpJBR&usg=TF5iGSqK1_GSADtHqTqjuUZyMIY.",
         "http://www.nasa.gov/mission_pages/nustar/main/index.html",
         "1331923255.0",
         "1331922854.0",
         "Luban",
         "[51.116699, 15.2833]",
         null,
         null
        ],
        [
         "7",
         "Mozilla/5.0 (Windows NT 6.1; rv:2.0.1) Gecko/20100101 Firefox/4.0.1",
         null,
         "0.0",
         "",
         null,
         "wcndER",
         "zkpJBR",
         "bnjacobs",
         "bg,en-us;q=0.7,en;q=0.3",
         "1.usa.gov",
         "http://www.facebook.com/",
         "http://www.nasa.gov/mission_pages/nustar/main/index.html",
         "1331923255.0",
         "1331922854.0",
         null,
         null,
         null,
         null
        ],
        [
         "8",
         "Opera/9.80 (X11; Linux zbov; U; en) Presto/2.10.254 Version/12.00",
         null,
         "0.0",
         "",
         null,
         "wcndER",
         "zkpJBR",
         "bnjacobs",
         "en-US, en",
         "1.usa.gov",
         "http://www.facebook.com/l.php?u=http%3A%2F%2F1.usa.gov%2FzkpJBR&h=fAQG5ntSGAQHqKPlWzuJKUA9LYeckHZCUxvjQipJDd7Rmmw",
         "http://www.nasa.gov/mission_pages/nustar/main/index.html",
         "1331923254.0",
         "1331922854.0",
         null,
         null,
         null,
         null
        ],
        [
         "9",
         "Mozilla/5.0 (Windows NT 6.1; WOW64) AppleWebKit/535.11 (KHTML, like Gecko) Chrome/17.0.963.79 Safari/535.11",
         null,
         "0.0",
         "",
         null,
         "zCaLwp",
         "zUtuOu",
         "alelex88",
         "pt-BR,pt;q=0.8,en-US;q=0.6,en;q=0.4",
         "1.usa.gov",
         "http://t.co/o1Pd0WeV",
         "http://apod.nasa.gov/apod/ap120312.html",
         "1331923255.0",
         "1331923068.0",
         null,
         null,
         null,
         null
        ]
       ],
       "shape": {
        "columns": 18,
        "rows": 10
       }
      },
      "text/html": [
       "<div>\n",
       "<style scoped>\n",
       "    .dataframe tbody tr th:only-of-type {\n",
       "        vertical-align: middle;\n",
       "    }\n",
       "\n",
       "    .dataframe tbody tr th {\n",
       "        vertical-align: top;\n",
       "    }\n",
       "\n",
       "    .dataframe thead th {\n",
       "        text-align: right;\n",
       "    }\n",
       "</style>\n",
       "<table border=\"1\" class=\"dataframe\">\n",
       "  <thead>\n",
       "    <tr style=\"text-align: right;\">\n",
       "      <th></th>\n",
       "      <th>a</th>\n",
       "      <th>c</th>\n",
       "      <th>nk</th>\n",
       "      <th>tz</th>\n",
       "      <th>gr</th>\n",
       "      <th>g</th>\n",
       "      <th>h</th>\n",
       "      <th>l</th>\n",
       "      <th>al</th>\n",
       "      <th>hh</th>\n",
       "      <th>r</th>\n",
       "      <th>u</th>\n",
       "      <th>t</th>\n",
       "      <th>hc</th>\n",
       "      <th>cy</th>\n",
       "      <th>ll</th>\n",
       "      <th>_heartbeat_</th>\n",
       "      <th>kw</th>\n",
       "    </tr>\n",
       "  </thead>\n",
       "  <tbody>\n",
       "    <tr>\n",
       "      <th>0</th>\n",
       "      <td>Mozilla/5.0 (Windows NT 6.1; WOW64) AppleWebKi...</td>\n",
       "      <td>US</td>\n",
       "      <td>1.0</td>\n",
       "      <td>America/New_York</td>\n",
       "      <td>MA</td>\n",
       "      <td>A6qOVH</td>\n",
       "      <td>wfLQtf</td>\n",
       "      <td>orofrog</td>\n",
       "      <td>en-US,en;q=0.8</td>\n",
       "      <td>1.usa.gov</td>\n",
       "      <td>http://www.facebook.com/l/7AQEFzjSi/1.usa.gov/...</td>\n",
       "      <td>http://www.ncbi.nlm.nih.gov/pubmed/22415991</td>\n",
       "      <td>1.331923e+09</td>\n",
       "      <td>1.331823e+09</td>\n",
       "      <td>Danvers</td>\n",
       "      <td>[42.576698, -70.954903]</td>\n",
       "      <td>NaN</td>\n",
       "      <td>NaN</td>\n",
       "    </tr>\n",
       "    <tr>\n",
       "      <th>1</th>\n",
       "      <td>GoogleMaps/RochesterNY</td>\n",
       "      <td>US</td>\n",
       "      <td>0.0</td>\n",
       "      <td>America/Denver</td>\n",
       "      <td>UT</td>\n",
       "      <td>mwszkS</td>\n",
       "      <td>mwszkS</td>\n",
       "      <td>bitly</td>\n",
       "      <td>NaN</td>\n",
       "      <td>j.mp</td>\n",
       "      <td>http://www.AwareMap.com/</td>\n",
       "      <td>http://www.monroecounty.gov/etc/911/rss.php</td>\n",
       "      <td>1.331923e+09</td>\n",
       "      <td>1.308262e+09</td>\n",
       "      <td>Provo</td>\n",
       "      <td>[40.218102, -111.613297]</td>\n",
       "      <td>NaN</td>\n",
       "      <td>NaN</td>\n",
       "    </tr>\n",
       "    <tr>\n",
       "      <th>2</th>\n",
       "      <td>Mozilla/4.0 (compatible; MSIE 8.0; Windows NT ...</td>\n",
       "      <td>US</td>\n",
       "      <td>1.0</td>\n",
       "      <td>America/New_York</td>\n",
       "      <td>DC</td>\n",
       "      <td>xxr3Qb</td>\n",
       "      <td>xxr3Qb</td>\n",
       "      <td>bitly</td>\n",
       "      <td>en-US</td>\n",
       "      <td>1.usa.gov</td>\n",
       "      <td>http://t.co/03elZC4Q</td>\n",
       "      <td>http://boxer.senate.gov/en/press/releases/0316...</td>\n",
       "      <td>1.331923e+09</td>\n",
       "      <td>1.331920e+09</td>\n",
       "      <td>Washington</td>\n",
       "      <td>[38.9007, -77.043098]</td>\n",
       "      <td>NaN</td>\n",
       "      <td>NaN</td>\n",
       "    </tr>\n",
       "    <tr>\n",
       "      <th>3</th>\n",
       "      <td>Mozilla/5.0 (Macintosh; Intel Mac OS X 10_6_8)...</td>\n",
       "      <td>BR</td>\n",
       "      <td>0.0</td>\n",
       "      <td>America/Sao_Paulo</td>\n",
       "      <td>27</td>\n",
       "      <td>zCaLwp</td>\n",
       "      <td>zUtuOu</td>\n",
       "      <td>alelex88</td>\n",
       "      <td>pt-br</td>\n",
       "      <td>1.usa.gov</td>\n",
       "      <td>direct</td>\n",
       "      <td>http://apod.nasa.gov/apod/ap120312.html</td>\n",
       "      <td>1.331923e+09</td>\n",
       "      <td>1.331923e+09</td>\n",
       "      <td>Braz</td>\n",
       "      <td>[-23.549999, -46.616699]</td>\n",
       "      <td>NaN</td>\n",
       "      <td>NaN</td>\n",
       "    </tr>\n",
       "    <tr>\n",
       "      <th>4</th>\n",
       "      <td>Mozilla/5.0 (Windows NT 6.1; WOW64) AppleWebKi...</td>\n",
       "      <td>US</td>\n",
       "      <td>0.0</td>\n",
       "      <td>America/New_York</td>\n",
       "      <td>MA</td>\n",
       "      <td>9b6kNl</td>\n",
       "      <td>9b6kNl</td>\n",
       "      <td>bitly</td>\n",
       "      <td>en-US,en;q=0.8</td>\n",
       "      <td>bit.ly</td>\n",
       "      <td>http://www.shrewsbury-ma.gov/selco/</td>\n",
       "      <td>http://www.shrewsbury-ma.gov/egov/gallery/1341...</td>\n",
       "      <td>1.331923e+09</td>\n",
       "      <td>1.273672e+09</td>\n",
       "      <td>Shrewsbury</td>\n",
       "      <td>[42.286499, -71.714699]</td>\n",
       "      <td>NaN</td>\n",
       "      <td>NaN</td>\n",
       "    </tr>\n",
       "    <tr>\n",
       "      <th>5</th>\n",
       "      <td>Mozilla/5.0 (Windows NT 6.1; WOW64) AppleWebKi...</td>\n",
       "      <td>US</td>\n",
       "      <td>0.0</td>\n",
       "      <td>America/New_York</td>\n",
       "      <td>MA</td>\n",
       "      <td>axNK8c</td>\n",
       "      <td>axNK8c</td>\n",
       "      <td>bitly</td>\n",
       "      <td>en-US,en;q=0.8</td>\n",
       "      <td>bit.ly</td>\n",
       "      <td>http://www.shrewsbury-ma.gov/selco/</td>\n",
       "      <td>http://www.shrewsbury-ma.gov/egov/gallery/1341...</td>\n",
       "      <td>1.331923e+09</td>\n",
       "      <td>1.273673e+09</td>\n",
       "      <td>Shrewsbury</td>\n",
       "      <td>[42.286499, -71.714699]</td>\n",
       "      <td>NaN</td>\n",
       "      <td>NaN</td>\n",
       "    </tr>\n",
       "    <tr>\n",
       "      <th>6</th>\n",
       "      <td>Mozilla/5.0 (Windows NT 5.1) AppleWebKit/535.1...</td>\n",
       "      <td>PL</td>\n",
       "      <td>0.0</td>\n",
       "      <td>Europe/Warsaw</td>\n",
       "      <td>77</td>\n",
       "      <td>wcndER</td>\n",
       "      <td>zkpJBR</td>\n",
       "      <td>bnjacobs</td>\n",
       "      <td>pl-PL,pl;q=0.8,en-US;q=0.6,en;q=0.4</td>\n",
       "      <td>1.usa.gov</td>\n",
       "      <td>http://plus.url.google.com/url?sa=z&amp;n=13319232...</td>\n",
       "      <td>http://www.nasa.gov/mission_pages/nustar/main/...</td>\n",
       "      <td>1.331923e+09</td>\n",
       "      <td>1.331923e+09</td>\n",
       "      <td>Luban</td>\n",
       "      <td>[51.116699, 15.2833]</td>\n",
       "      <td>NaN</td>\n",
       "      <td>NaN</td>\n",
       "    </tr>\n",
       "    <tr>\n",
       "      <th>7</th>\n",
       "      <td>Mozilla/5.0 (Windows NT 6.1; rv:2.0.1) Gecko/2...</td>\n",
       "      <td>None</td>\n",
       "      <td>0.0</td>\n",
       "      <td></td>\n",
       "      <td>NaN</td>\n",
       "      <td>wcndER</td>\n",
       "      <td>zkpJBR</td>\n",
       "      <td>bnjacobs</td>\n",
       "      <td>bg,en-us;q=0.7,en;q=0.3</td>\n",
       "      <td>1.usa.gov</td>\n",
       "      <td>http://www.facebook.com/</td>\n",
       "      <td>http://www.nasa.gov/mission_pages/nustar/main/...</td>\n",
       "      <td>1.331923e+09</td>\n",
       "      <td>1.331923e+09</td>\n",
       "      <td>NaN</td>\n",
       "      <td>NaN</td>\n",
       "      <td>NaN</td>\n",
       "      <td>NaN</td>\n",
       "    </tr>\n",
       "    <tr>\n",
       "      <th>8</th>\n",
       "      <td>Opera/9.80 (X11; Linux zbov; U; en) Presto/2.1...</td>\n",
       "      <td>None</td>\n",
       "      <td>0.0</td>\n",
       "      <td></td>\n",
       "      <td>NaN</td>\n",
       "      <td>wcndER</td>\n",
       "      <td>zkpJBR</td>\n",
       "      <td>bnjacobs</td>\n",
       "      <td>en-US, en</td>\n",
       "      <td>1.usa.gov</td>\n",
       "      <td>http://www.facebook.com/l.php?u=http%3A%2F%2F1...</td>\n",
       "      <td>http://www.nasa.gov/mission_pages/nustar/main/...</td>\n",
       "      <td>1.331923e+09</td>\n",
       "      <td>1.331923e+09</td>\n",
       "      <td>NaN</td>\n",
       "      <td>NaN</td>\n",
       "      <td>NaN</td>\n",
       "      <td>NaN</td>\n",
       "    </tr>\n",
       "    <tr>\n",
       "      <th>9</th>\n",
       "      <td>Mozilla/5.0 (Windows NT 6.1; WOW64) AppleWebKi...</td>\n",
       "      <td>None</td>\n",
       "      <td>0.0</td>\n",
       "      <td></td>\n",
       "      <td>NaN</td>\n",
       "      <td>zCaLwp</td>\n",
       "      <td>zUtuOu</td>\n",
       "      <td>alelex88</td>\n",
       "      <td>pt-BR,pt;q=0.8,en-US;q=0.6,en;q=0.4</td>\n",
       "      <td>1.usa.gov</td>\n",
       "      <td>http://t.co/o1Pd0WeV</td>\n",
       "      <td>http://apod.nasa.gov/apod/ap120312.html</td>\n",
       "      <td>1.331923e+09</td>\n",
       "      <td>1.331923e+09</td>\n",
       "      <td>NaN</td>\n",
       "      <td>NaN</td>\n",
       "      <td>NaN</td>\n",
       "      <td>NaN</td>\n",
       "    </tr>\n",
       "  </tbody>\n",
       "</table>\n",
       "</div>"
      ],
      "text/plain": [
       "                                                   a     c   nk  \\\n",
       "0  Mozilla/5.0 (Windows NT 6.1; WOW64) AppleWebKi...    US  1.0   \n",
       "1                             GoogleMaps/RochesterNY    US  0.0   \n",
       "2  Mozilla/4.0 (compatible; MSIE 8.0; Windows NT ...    US  1.0   \n",
       "3  Mozilla/5.0 (Macintosh; Intel Mac OS X 10_6_8)...    BR  0.0   \n",
       "4  Mozilla/5.0 (Windows NT 6.1; WOW64) AppleWebKi...    US  0.0   \n",
       "5  Mozilla/5.0 (Windows NT 6.1; WOW64) AppleWebKi...    US  0.0   \n",
       "6  Mozilla/5.0 (Windows NT 5.1) AppleWebKit/535.1...    PL  0.0   \n",
       "7  Mozilla/5.0 (Windows NT 6.1; rv:2.0.1) Gecko/2...  None  0.0   \n",
       "8  Opera/9.80 (X11; Linux zbov; U; en) Presto/2.1...  None  0.0   \n",
       "9  Mozilla/5.0 (Windows NT 6.1; WOW64) AppleWebKi...  None  0.0   \n",
       "\n",
       "                  tz   gr       g       h         l  \\\n",
       "0   America/New_York   MA  A6qOVH  wfLQtf   orofrog   \n",
       "1     America/Denver   UT  mwszkS  mwszkS     bitly   \n",
       "2   America/New_York   DC  xxr3Qb  xxr3Qb     bitly   \n",
       "3  America/Sao_Paulo   27  zCaLwp  zUtuOu  alelex88   \n",
       "4   America/New_York   MA  9b6kNl  9b6kNl     bitly   \n",
       "5   America/New_York   MA  axNK8c  axNK8c     bitly   \n",
       "6      Europe/Warsaw   77  wcndER  zkpJBR  bnjacobs   \n",
       "7                     NaN  wcndER  zkpJBR  bnjacobs   \n",
       "8                     NaN  wcndER  zkpJBR  bnjacobs   \n",
       "9                     NaN  zCaLwp  zUtuOu  alelex88   \n",
       "\n",
       "                                    al         hh  \\\n",
       "0                       en-US,en;q=0.8  1.usa.gov   \n",
       "1                                  NaN       j.mp   \n",
       "2                                en-US  1.usa.gov   \n",
       "3                                pt-br  1.usa.gov   \n",
       "4                       en-US,en;q=0.8     bit.ly   \n",
       "5                       en-US,en;q=0.8     bit.ly   \n",
       "6  pl-PL,pl;q=0.8,en-US;q=0.6,en;q=0.4  1.usa.gov   \n",
       "7              bg,en-us;q=0.7,en;q=0.3  1.usa.gov   \n",
       "8                            en-US, en  1.usa.gov   \n",
       "9  pt-BR,pt;q=0.8,en-US;q=0.6,en;q=0.4  1.usa.gov   \n",
       "\n",
       "                                                   r  \\\n",
       "0  http://www.facebook.com/l/7AQEFzjSi/1.usa.gov/...   \n",
       "1                           http://www.AwareMap.com/   \n",
       "2                               http://t.co/03elZC4Q   \n",
       "3                                             direct   \n",
       "4                http://www.shrewsbury-ma.gov/selco/   \n",
       "5                http://www.shrewsbury-ma.gov/selco/   \n",
       "6  http://plus.url.google.com/url?sa=z&n=13319232...   \n",
       "7                           http://www.facebook.com/   \n",
       "8  http://www.facebook.com/l.php?u=http%3A%2F%2F1...   \n",
       "9                               http://t.co/o1Pd0WeV   \n",
       "\n",
       "                                                   u             t  \\\n",
       "0        http://www.ncbi.nlm.nih.gov/pubmed/22415991  1.331923e+09   \n",
       "1        http://www.monroecounty.gov/etc/911/rss.php  1.331923e+09   \n",
       "2  http://boxer.senate.gov/en/press/releases/0316...  1.331923e+09   \n",
       "3            http://apod.nasa.gov/apod/ap120312.html  1.331923e+09   \n",
       "4  http://www.shrewsbury-ma.gov/egov/gallery/1341...  1.331923e+09   \n",
       "5  http://www.shrewsbury-ma.gov/egov/gallery/1341...  1.331923e+09   \n",
       "6  http://www.nasa.gov/mission_pages/nustar/main/...  1.331923e+09   \n",
       "7  http://www.nasa.gov/mission_pages/nustar/main/...  1.331923e+09   \n",
       "8  http://www.nasa.gov/mission_pages/nustar/main/...  1.331923e+09   \n",
       "9            http://apod.nasa.gov/apod/ap120312.html  1.331923e+09   \n",
       "\n",
       "             hc          cy                        ll  _heartbeat_   kw  \n",
       "0  1.331823e+09     Danvers   [42.576698, -70.954903]          NaN  NaN  \n",
       "1  1.308262e+09       Provo  [40.218102, -111.613297]          NaN  NaN  \n",
       "2  1.331920e+09  Washington     [38.9007, -77.043098]          NaN  NaN  \n",
       "3  1.331923e+09        Braz  [-23.549999, -46.616699]          NaN  NaN  \n",
       "4  1.273672e+09  Shrewsbury   [42.286499, -71.714699]          NaN  NaN  \n",
       "5  1.273673e+09  Shrewsbury   [42.286499, -71.714699]          NaN  NaN  \n",
       "6  1.331923e+09       Luban      [51.116699, 15.2833]          NaN  NaN  \n",
       "7  1.331923e+09         NaN                       NaN          NaN  NaN  \n",
       "8  1.331923e+09         NaN                       NaN          NaN  NaN  \n",
       "9  1.331923e+09         NaN                       NaN          NaN  NaN  "
      ]
     },
     "execution_count": 21,
     "metadata": {},
     "output_type": "execute_result"
    }
   ],
   "source": [
    "data=pd.DataFrame(result)\n",
    "data.head(10)"
   ]
  },
  {
   "cell_type": "code",
   "execution_count": 22,
   "id": "e31b56e7",
   "metadata": {},
   "outputs": [
    {
     "name": "stderr",
     "output_type": "stream",
     "text": [
      "C:\\Users\\ncfad\\AppData\\Local\\Temp\\ipykernel_25824\\218361916.py:2: FutureWarning: Setting an item of incompatible dtype is deprecated and will raise an error in a future version of pandas. Value 'Unknown' has dtype incompatible with float64, please explicitly cast to a compatible dtype first.\n",
      "  data[data['tz'] == ''] = 'Unknown'\n",
      "C:\\Users\\ncfad\\AppData\\Local\\Temp\\ipykernel_25824\\218361916.py:2: FutureWarning: Setting an item of incompatible dtype is deprecated and will raise an error in a future version of pandas. Value 'Unknown' has dtype incompatible with float64, please explicitly cast to a compatible dtype first.\n",
      "  data[data['tz'] == ''] = 'Unknown'\n",
      "C:\\Users\\ncfad\\AppData\\Local\\Temp\\ipykernel_25824\\218361916.py:2: FutureWarning: Setting an item of incompatible dtype is deprecated and will raise an error in a future version of pandas. Value 'Unknown' has dtype incompatible with float64, please explicitly cast to a compatible dtype first.\n",
      "  data[data['tz'] == ''] = 'Unknown'\n",
      "C:\\Users\\ncfad\\AppData\\Local\\Temp\\ipykernel_25824\\218361916.py:2: FutureWarning: Setting an item of incompatible dtype is deprecated and will raise an error in a future version of pandas. Value 'Unknown' has dtype incompatible with float64, please explicitly cast to a compatible dtype first.\n",
      "  data[data['tz'] == ''] = 'Unknown'\n"
     ]
    }
   ],
   "source": [
    "data['tz'] = data['tz'].fillna('Missing')\n",
    "data[data['tz'] == ''] = 'Unknown'\n",
    "val = pd.Series(data['tz'].value_counts())\n",
    "subset_data = val[:7]"
   ]
  },
  {
   "cell_type": "markdown",
   "id": "fb7af8f1",
   "metadata": {},
   "source": [
    "<span style=\"font-size:24px;font-weight:bold\">\n",
    "Graph for Top Time Zones\n",
    "</span>"
   ]
  },
  {
   "cell_type": "code",
   "execution_count": 24,
   "id": "e3ce01bc",
   "metadata": {},
   "outputs": [
    {
     "data": {
      "image/png": "[encoded data removed]",
      "text/plain": [
       "<Figure size 640x480 with 1 Axes>"
      ]
     },
     "metadata": {},
     "output_type": "display_data"
    }
   ],
   "source": [
    "import seaborn as sns\n",
    "sns.barplot(x=subset_data.to_numpy(),y=subset_data.index)\n",
    "sns.set_style('whitegrid')\n",
    "sns.set_palette('Greys_r')"
   ]
  },
  {
   "cell_type": "markdown",
   "id": "6a6c7896",
   "metadata": {},
   "source": [
    "<span style=\"font-size:24px; font-weight:bold\">\n",
    "Top Time Zones by Windows & Non-Windows Users\n",
    "</span>\n"
   ]
  },
  {
   "cell_type": "code",
   "execution_count": 25,
   "id": "dbb4886a",
   "metadata": {},
   "outputs": [
    {
     "data": {
      "application/vnd.microsoft.datawrangler.viewer.v0+json": {
       "columns": [
        {
         "name": "index",
         "rawType": "int64",
         "type": "integer"
        },
        {
         "name": "a",
         "rawType": "object",
         "type": "string"
        },
        {
         "name": "c",
         "rawType": "object",
         "type": "string"
        },
        {
         "name": "nk",
         "rawType": "object",
         "type": "unknown"
        },
        {
         "name": "tz",
         "rawType": "object",
         "type": "string"
        },
        {
         "name": "gr",
         "rawType": "object",
         "type": "string"
        },
        {
         "name": "g",
         "rawType": "object",
         "type": "string"
        },
        {
         "name": "h",
         "rawType": "object",
         "type": "string"
        },
        {
         "name": "l",
         "rawType": "object",
         "type": "string"
        },
        {
         "name": "al",
         "rawType": "object",
         "type": "unknown"
        },
        {
         "name": "hh",
         "rawType": "object",
         "type": "string"
        },
        {
         "name": "r",
         "rawType": "object",
         "type": "string"
        },
        {
         "name": "u",
         "rawType": "object",
         "type": "string"
        },
        {
         "name": "t",
         "rawType": "object",
         "type": "unknown"
        },
        {
         "name": "hc",
         "rawType": "object",
         "type": "unknown"
        },
        {
         "name": "cy",
         "rawType": "object",
         "type": "string"
        },
        {
         "name": "ll",
         "rawType": "object",
         "type": "unknown"
        },
        {
         "name": "_heartbeat_",
         "rawType": "object",
         "type": "unknown"
        },
        {
         "name": "kw",
         "rawType": "object",
         "type": "unknown"
        },
        {
         "name": "os",
         "rawType": "object",
         "type": "string"
        }
       ],
       "ref": "3783c79f-c9e5-4ab8-8774-692ffe8657c1",
       "rows": [
        [
         "0",
         "Mozilla/5.0 (Windows NT 6.1; WOW64) AppleWebKit/535.11 (KHTML, like Gecko) Chrome/17.0.963.78 Safari/535.11",
         "US",
         "1.0",
         "America/New_York",
         "MA",
         "A6qOVH",
         "wfLQtf",
         "orofrog",
         "en-US,en;q=0.8",
         "1.usa.gov",
         "http://www.facebook.com/l/7AQEFzjSi/1.usa.gov/wfLQtf",
         "http://www.ncbi.nlm.nih.gov/pubmed/22415991",
         "1331923247.0",
         "1331822918.0",
         "Danvers",
         "[42.576698, -70.954903]",
         null,
         null,
         "WindowsHaiBhai"
        ],
        [
         "1",
         "GoogleMaps/RochesterNY",
         "US",
         "0.0",
         "America/Denver",
         "UT",
         "mwszkS",
         "mwszkS",
         "bitly",
         null,
         "j.mp",
         "http://www.AwareMap.com/",
         "http://www.monroecounty.gov/etc/911/rss.php",
         "1331923249.0",
         "1308262393.0",
         "Provo",
         "[40.218102, -111.613297]",
         null,
         null,
         "WindowNiHai"
        ],
        [
         "2",
         "Mozilla/4.0 (compatible; MSIE 8.0; Windows NT 6.1; WOW64; Trident/4.0; SLCC2; .NET CLR 2.0.50727; .NET CLR 3.5.30729; .NET CLR 3.0.30729; Media Center PC 6.0; .NET4.0C; .NET4.0E; InfoPath.3)",
         "US",
         "1.0",
         "America/New_York",
         "DC",
         "xxr3Qb",
         "xxr3Qb",
         "bitly",
         "en-US",
         "1.usa.gov",
         "http://t.co/03elZC4Q",
         "http://boxer.senate.gov/en/press/releases/031612.cfm",
         "1331923250.0",
         "1331919941.0",
         "Washington",
         "[38.9007, -77.043098]",
         null,
         null,
         "WindowsHaiBhai"
        ],
        [
         "3",
         "Mozilla/5.0 (Macintosh; Intel Mac OS X 10_6_8) AppleWebKit/534.52.7 (KHTML, like Gecko) Version/5.1.2 Safari/534.52.7",
         "BR",
         "0.0",
         "America/Sao_Paulo",
         "27",
         "zCaLwp",
         "zUtuOu",
         "alelex88",
         "pt-br",
         "1.usa.gov",
         "direct",
         "http://apod.nasa.gov/apod/ap120312.html",
         "1331923249.0",
         "1331923068.0",
         "Braz",
         "[-23.549999, -46.616699]",
         null,
         null,
         "WindowNiHai"
        ],
        [
         "4",
         "Mozilla/5.0 (Windows NT 6.1; WOW64) AppleWebKit/535.11 (KHTML, like Gecko) Chrome/17.0.963.79 Safari/535.11",
         "US",
         "0.0",
         "America/New_York",
         "MA",
         "9b6kNl",
         "9b6kNl",
         "bitly",
         "en-US,en;q=0.8",
         "bit.ly",
         "http://www.shrewsbury-ma.gov/selco/",
         "http://www.shrewsbury-ma.gov/egov/gallery/134127368672998.png",
         "1331923251.0",
         "1273672411.0",
         "Shrewsbury",
         "[42.286499, -71.714699]",
         null,
         null,
         "WindowsHaiBhai"
        ]
       ],
       "shape": {
        "columns": 19,
        "rows": 5
       }
      },
      "text/html": [
       "<div>\n",
       "<style scoped>\n",
       "    .dataframe tbody tr th:only-of-type {\n",
       "        vertical-align: middle;\n",
       "    }\n",
       "\n",
       "    .dataframe tbody tr th {\n",
       "        vertical-align: top;\n",
       "    }\n",
       "\n",
       "    .dataframe thead th {\n",
       "        text-align: right;\n",
       "    }\n",
       "</style>\n",
       "<table border=\"1\" class=\"dataframe\">\n",
       "  <thead>\n",
       "    <tr style=\"text-align: right;\">\n",
       "      <th></th>\n",
       "      <th>a</th>\n",
       "      <th>c</th>\n",
       "      <th>nk</th>\n",
       "      <th>tz</th>\n",
       "      <th>gr</th>\n",
       "      <th>g</th>\n",
       "      <th>h</th>\n",
       "      <th>l</th>\n",
       "      <th>al</th>\n",
       "      <th>hh</th>\n",
       "      <th>r</th>\n",
       "      <th>u</th>\n",
       "      <th>t</th>\n",
       "      <th>hc</th>\n",
       "      <th>cy</th>\n",
       "      <th>ll</th>\n",
       "      <th>_heartbeat_</th>\n",
       "      <th>kw</th>\n",
       "      <th>os</th>\n",
       "    </tr>\n",
       "  </thead>\n",
       "  <tbody>\n",
       "    <tr>\n",
       "      <th>0</th>\n",
       "      <td>Mozilla/5.0 (Windows NT 6.1; WOW64) AppleWebKi...</td>\n",
       "      <td>US</td>\n",
       "      <td>1.0</td>\n",
       "      <td>America/New_York</td>\n",
       "      <td>MA</td>\n",
       "      <td>A6qOVH</td>\n",
       "      <td>wfLQtf</td>\n",
       "      <td>orofrog</td>\n",
       "      <td>en-US,en;q=0.8</td>\n",
       "      <td>1.usa.gov</td>\n",
       "      <td>http://www.facebook.com/l/7AQEFzjSi/1.usa.gov/...</td>\n",
       "      <td>http://www.ncbi.nlm.nih.gov/pubmed/22415991</td>\n",
       "      <td>1331923247.0</td>\n",
       "      <td>1331822918.0</td>\n",
       "      <td>Danvers</td>\n",
       "      <td>[42.576698, -70.954903]</td>\n",
       "      <td>NaN</td>\n",
       "      <td>NaN</td>\n",
       "      <td>WindowsHaiBhai</td>\n",
       "    </tr>\n",
       "    <tr>\n",
       "      <th>1</th>\n",
       "      <td>GoogleMaps/RochesterNY</td>\n",
       "      <td>US</td>\n",
       "      <td>0.0</td>\n",
       "      <td>America/Denver</td>\n",
       "      <td>UT</td>\n",
       "      <td>mwszkS</td>\n",
       "      <td>mwszkS</td>\n",
       "      <td>bitly</td>\n",
       "      <td>NaN</td>\n",
       "      <td>j.mp</td>\n",
       "      <td>http://www.AwareMap.com/</td>\n",
       "      <td>http://www.monroecounty.gov/etc/911/rss.php</td>\n",
       "      <td>1331923249.0</td>\n",
       "      <td>1308262393.0</td>\n",
       "      <td>Provo</td>\n",
       "      <td>[40.218102, -111.613297]</td>\n",
       "      <td>NaN</td>\n",
       "      <td>NaN</td>\n",
       "      <td>WindowNiHai</td>\n",
       "    </tr>\n",
       "    <tr>\n",
       "      <th>2</th>\n",
       "      <td>Mozilla/4.0 (compatible; MSIE 8.0; Windows NT ...</td>\n",
       "      <td>US</td>\n",
       "      <td>1.0</td>\n",
       "      <td>America/New_York</td>\n",
       "      <td>DC</td>\n",
       "      <td>xxr3Qb</td>\n",
       "      <td>xxr3Qb</td>\n",
       "      <td>bitly</td>\n",
       "      <td>en-US</td>\n",
       "      <td>1.usa.gov</td>\n",
       "      <td>http://t.co/03elZC4Q</td>\n",
       "      <td>http://boxer.senate.gov/en/press/releases/0316...</td>\n",
       "      <td>1331923250.0</td>\n",
       "      <td>1331919941.0</td>\n",
       "      <td>Washington</td>\n",
       "      <td>[38.9007, -77.043098]</td>\n",
       "      <td>NaN</td>\n",
       "      <td>NaN</td>\n",
       "      <td>WindowsHaiBhai</td>\n",
       "    </tr>\n",
       "    <tr>\n",
       "      <th>3</th>\n",
       "      <td>Mozilla/5.0 (Macintosh; Intel Mac OS X 10_6_8)...</td>\n",
       "      <td>BR</td>\n",
       "      <td>0.0</td>\n",
       "      <td>America/Sao_Paulo</td>\n",
       "      <td>27</td>\n",
       "      <td>zCaLwp</td>\n",
       "      <td>zUtuOu</td>\n",
       "      <td>alelex88</td>\n",
       "      <td>pt-br</td>\n",
       "      <td>1.usa.gov</td>\n",
       "      <td>direct</td>\n",
       "      <td>http://apod.nasa.gov/apod/ap120312.html</td>\n",
       "      <td>1331923249.0</td>\n",
       "      <td>1331923068.0</td>\n",
       "      <td>Braz</td>\n",
       "      <td>[-23.549999, -46.616699]</td>\n",
       "      <td>NaN</td>\n",
       "      <td>NaN</td>\n",
       "      <td>WindowNiHai</td>\n",
       "    </tr>\n",
       "    <tr>\n",
       "      <th>4</th>\n",
       "      <td>Mozilla/5.0 (Windows NT 6.1; WOW64) AppleWebKi...</td>\n",
       "      <td>US</td>\n",
       "      <td>0.0</td>\n",
       "      <td>America/New_York</td>\n",
       "      <td>MA</td>\n",
       "      <td>9b6kNl</td>\n",
       "      <td>9b6kNl</td>\n",
       "      <td>bitly</td>\n",
       "      <td>en-US,en;q=0.8</td>\n",
       "      <td>bit.ly</td>\n",
       "      <td>http://www.shrewsbury-ma.gov/selco/</td>\n",
       "      <td>http://www.shrewsbury-ma.gov/egov/gallery/1341...</td>\n",
       "      <td>1331923251.0</td>\n",
       "      <td>1273672411.0</td>\n",
       "      <td>Shrewsbury</td>\n",
       "      <td>[42.286499, -71.714699]</td>\n",
       "      <td>NaN</td>\n",
       "      <td>NaN</td>\n",
       "      <td>WindowsHaiBhai</td>\n",
       "    </tr>\n",
       "  </tbody>\n",
       "</table>\n",
       "</div>"
      ],
      "text/plain": [
       "                                                   a   c   nk  \\\n",
       "0  Mozilla/5.0 (Windows NT 6.1; WOW64) AppleWebKi...  US  1.0   \n",
       "1                             GoogleMaps/RochesterNY  US  0.0   \n",
       "2  Mozilla/4.0 (compatible; MSIE 8.0; Windows NT ...  US  1.0   \n",
       "3  Mozilla/5.0 (Macintosh; Intel Mac OS X 10_6_8)...  BR  0.0   \n",
       "4  Mozilla/5.0 (Windows NT 6.1; WOW64) AppleWebKi...  US  0.0   \n",
       "\n",
       "                  tz  gr       g       h         l              al         hh  \\\n",
       "0   America/New_York  MA  A6qOVH  wfLQtf   orofrog  en-US,en;q=0.8  1.usa.gov   \n",
       "1     America/Denver  UT  mwszkS  mwszkS     bitly             NaN       j.mp   \n",
       "2   America/New_York  DC  xxr3Qb  xxr3Qb     bitly           en-US  1.usa.gov   \n",
       "3  America/Sao_Paulo  27  zCaLwp  zUtuOu  alelex88           pt-br  1.usa.gov   \n",
       "4   America/New_York  MA  9b6kNl  9b6kNl     bitly  en-US,en;q=0.8     bit.ly   \n",
       "\n",
       "                                                   r  \\\n",
       "0  http://www.facebook.com/l/7AQEFzjSi/1.usa.gov/...   \n",
       "1                           http://www.AwareMap.com/   \n",
       "2                               http://t.co/03elZC4Q   \n",
       "3                                             direct   \n",
       "4                http://www.shrewsbury-ma.gov/selco/   \n",
       "\n",
       "                                                   u             t  \\\n",
       "0        http://www.ncbi.nlm.nih.gov/pubmed/22415991  1331923247.0   \n",
       "1        http://www.monroecounty.gov/etc/911/rss.php  1331923249.0   \n",
       "2  http://boxer.senate.gov/en/press/releases/0316...  1331923250.0   \n",
       "3            http://apod.nasa.gov/apod/ap120312.html  1331923249.0   \n",
       "4  http://www.shrewsbury-ma.gov/egov/gallery/1341...  1331923251.0   \n",
       "\n",
       "             hc          cy                        ll _heartbeat_   kw  \\\n",
       "0  1331822918.0     Danvers   [42.576698, -70.954903]         NaN  NaN   \n",
       "1  1308262393.0       Provo  [40.218102, -111.613297]         NaN  NaN   \n",
       "2  1331919941.0  Washington     [38.9007, -77.043098]         NaN  NaN   \n",
       "3  1331923068.0        Braz  [-23.549999, -46.616699]         NaN  NaN   \n",
       "4  1273672411.0  Shrewsbury   [42.286499, -71.714699]         NaN  NaN   \n",
       "\n",
       "               os  \n",
       "0  WindowsHaiBhai  \n",
       "1     WindowNiHai  \n",
       "2  WindowsHaiBhai  \n",
       "3     WindowNiHai  \n",
       "4  WindowsHaiBhai  "
      ]
     },
     "execution_count": 25,
     "metadata": {},
     "output_type": "execute_result"
    }
   ],
   "source": [
    "a_data = data[data['a'].notna()].copy()\n",
    "a_data['os'] = pd.Series(np.where(a_data['a'].str.contains('Windows'),'WindowsHaiBhai','WindowNiHai'))\n",
    "a_data.head()"
   ]
  },
  {
   "cell_type": "code",
   "execution_count": 26,
   "id": "43bb1287",
   "metadata": {},
   "outputs": [
    {
     "data": {
      "application/vnd.microsoft.datawrangler.viewer.v0+json": {
       "columns": [
        {
         "name": "tz",
         "rawType": "object",
         "type": "string"
        },
        {
         "name": "WindowNiHai",
         "rawType": "float64",
         "type": "float"
        },
        {
         "name": "WindowsHaiBhai",
         "rawType": "float64",
         "type": "float"
        }
       ],
       "ref": "72641422-4911-45f2-a8ab-8dbe298fb3a2",
       "rows": [
        [
         "America/Sao_Paulo",
         "15.0",
         "18.0"
        ],
        [
         "Europe/Madrid",
         "16.0",
         "18.0"
        ],
        [
         "Pacific/Honolulu",
         "15.0",
         "20.0"
        ],
        [
         "Asia/Tokyo",
         "16.0",
         "21.0"
        ],
        [
         "Europe/London",
         "35.0",
         "37.0"
        ],
        [
         "America/Denver",
         "75.0",
         "106.0"
        ],
        [
         "America/Los_Angeles",
         "150.0",
         "219.0"
        ],
        [
         "America/Chicago",
         "159.0",
         "221.0"
        ],
        [
         "Unknown",
         "233.0",
         "263.0"
        ],
        [
         "America/New_York",
         "517.0",
         "707.0"
        ]
       ],
       "shape": {
        "columns": 2,
        "rows": 10
       }
      },
      "text/html": [
       "<div>\n",
       "<style scoped>\n",
       "    .dataframe tbody tr th:only-of-type {\n",
       "        vertical-align: middle;\n",
       "    }\n",
       "\n",
       "    .dataframe tbody tr th {\n",
       "        vertical-align: top;\n",
       "    }\n",
       "\n",
       "    .dataframe thead th {\n",
       "        text-align: right;\n",
       "    }\n",
       "</style>\n",
       "<table border=\"1\" class=\"dataframe\">\n",
       "  <thead>\n",
       "    <tr style=\"text-align: right;\">\n",
       "      <th>os</th>\n",
       "      <th>WindowNiHai</th>\n",
       "      <th>WindowsHaiBhai</th>\n",
       "    </tr>\n",
       "    <tr>\n",
       "      <th>tz</th>\n",
       "      <th></th>\n",
       "      <th></th>\n",
       "    </tr>\n",
       "  </thead>\n",
       "  <tbody>\n",
       "    <tr>\n",
       "      <th>America/Sao_Paulo</th>\n",
       "      <td>15.0</td>\n",
       "      <td>18.0</td>\n",
       "    </tr>\n",
       "    <tr>\n",
       "      <th>Europe/Madrid</th>\n",
       "      <td>16.0</td>\n",
       "      <td>18.0</td>\n",
       "    </tr>\n",
       "    <tr>\n",
       "      <th>Pacific/Honolulu</th>\n",
       "      <td>15.0</td>\n",
       "      <td>20.0</td>\n",
       "    </tr>\n",
       "    <tr>\n",
       "      <th>Asia/Tokyo</th>\n",
       "      <td>16.0</td>\n",
       "      <td>21.0</td>\n",
       "    </tr>\n",
       "    <tr>\n",
       "      <th>Europe/London</th>\n",
       "      <td>35.0</td>\n",
       "      <td>37.0</td>\n",
       "    </tr>\n",
       "    <tr>\n",
       "      <th>America/Denver</th>\n",
       "      <td>75.0</td>\n",
       "      <td>106.0</td>\n",
       "    </tr>\n",
       "    <tr>\n",
       "      <th>America/Los_Angeles</th>\n",
       "      <td>150.0</td>\n",
       "      <td>219.0</td>\n",
       "    </tr>\n",
       "    <tr>\n",
       "      <th>America/Chicago</th>\n",
       "      <td>159.0</td>\n",
       "      <td>221.0</td>\n",
       "    </tr>\n",
       "    <tr>\n",
       "      <th>Unknown</th>\n",
       "      <td>233.0</td>\n",
       "      <td>263.0</td>\n",
       "    </tr>\n",
       "    <tr>\n",
       "      <th>America/New_York</th>\n",
       "      <td>517.0</td>\n",
       "      <td>707.0</td>\n",
       "    </tr>\n",
       "  </tbody>\n",
       "</table>\n",
       "</div>"
      ],
      "text/plain": [
       "os                   WindowNiHai  WindowsHaiBhai\n",
       "tz                                              \n",
       "America/Sao_Paulo           15.0            18.0\n",
       "Europe/Madrid               16.0            18.0\n",
       "Pacific/Honolulu            15.0            20.0\n",
       "Asia/Tokyo                  16.0            21.0\n",
       "Europe/London               35.0            37.0\n",
       "America/Denver              75.0           106.0\n",
       "America/Los_Angeles        150.0           219.0\n",
       "America/Chicago            159.0           221.0\n",
       "Unknown                    233.0           263.0\n",
       "America/New_York           517.0           707.0"
      ]
     },
     "execution_count": 26,
     "metadata": {},
     "output_type": "execute_result"
    }
   ],
   "source": [
    "df = a_data.groupby(['tz','os']).size().unstack().fillna(0)\n",
    "ind_index = df.sum('columns').argsort()\n",
    "final = df.take(ind_index)[-10:]\n",
    "final"
   ]
  },
  {
   "cell_type": "code",
   "execution_count": 27,
   "id": "db373416",
   "metadata": {},
   "outputs": [
    {
     "data": {
      "application/vnd.microsoft.datawrangler.viewer.v0+json": {
       "columns": [
        {
         "name": "index",
         "rawType": "int64",
         "type": "integer"
        },
        {
         "name": "tz",
         "rawType": "object",
         "type": "string"
        },
        {
         "name": "os",
         "rawType": "object",
         "type": "string"
        },
        {
         "name": "Total",
         "rawType": "float64",
         "type": "float"
        }
       ],
       "ref": "4713bb60-f50d-46df-8a42-a9811d1d962d",
       "rows": [
        [
         "0",
         "America/Sao_Paulo",
         "WindowNiHai",
         "15.0"
        ],
        [
         "1",
         "America/Sao_Paulo",
         "WindowsHaiBhai",
         "18.0"
        ],
        [
         "2",
         "Europe/Madrid",
         "WindowNiHai",
         "16.0"
        ],
        [
         "3",
         "Europe/Madrid",
         "WindowsHaiBhai",
         "18.0"
        ],
        [
         "4",
         "Pacific/Honolulu",
         "WindowNiHai",
         "15.0"
        ],
        [
         "5",
         "Pacific/Honolulu",
         "WindowsHaiBhai",
         "20.0"
        ],
        [
         "6",
         "Asia/Tokyo",
         "WindowNiHai",
         "16.0"
        ],
        [
         "7",
         "Asia/Tokyo",
         "WindowsHaiBhai",
         "21.0"
        ],
        [
         "8",
         "Europe/London",
         "WindowNiHai",
         "35.0"
        ],
        [
         "9",
         "Europe/London",
         "WindowsHaiBhai",
         "37.0"
        ]
       ],
       "shape": {
        "columns": 3,
        "rows": 10
       }
      },
      "text/html": [
       "<div>\n",
       "<style scoped>\n",
       "    .dataframe tbody tr th:only-of-type {\n",
       "        vertical-align: middle;\n",
       "    }\n",
       "\n",
       "    .dataframe tbody tr th {\n",
       "        vertical-align: top;\n",
       "    }\n",
       "\n",
       "    .dataframe thead th {\n",
       "        text-align: right;\n",
       "    }\n",
       "</style>\n",
       "<table border=\"1\" class=\"dataframe\">\n",
       "  <thead>\n",
       "    <tr style=\"text-align: right;\">\n",
       "      <th></th>\n",
       "      <th>tz</th>\n",
       "      <th>os</th>\n",
       "      <th>Total</th>\n",
       "    </tr>\n",
       "  </thead>\n",
       "  <tbody>\n",
       "    <tr>\n",
       "      <th>0</th>\n",
       "      <td>America/Sao_Paulo</td>\n",
       "      <td>WindowNiHai</td>\n",
       "      <td>15.0</td>\n",
       "    </tr>\n",
       "    <tr>\n",
       "      <th>1</th>\n",
       "      <td>America/Sao_Paulo</td>\n",
       "      <td>WindowsHaiBhai</td>\n",
       "      <td>18.0</td>\n",
       "    </tr>\n",
       "    <tr>\n",
       "      <th>2</th>\n",
       "      <td>Europe/Madrid</td>\n",
       "      <td>WindowNiHai</td>\n",
       "      <td>16.0</td>\n",
       "    </tr>\n",
       "    <tr>\n",
       "      <th>3</th>\n",
       "      <td>Europe/Madrid</td>\n",
       "      <td>WindowsHaiBhai</td>\n",
       "      <td>18.0</td>\n",
       "    </tr>\n",
       "    <tr>\n",
       "      <th>4</th>\n",
       "      <td>Pacific/Honolulu</td>\n",
       "      <td>WindowNiHai</td>\n",
       "      <td>15.0</td>\n",
       "    </tr>\n",
       "    <tr>\n",
       "      <th>5</th>\n",
       "      <td>Pacific/Honolulu</td>\n",
       "      <td>WindowsHaiBhai</td>\n",
       "      <td>20.0</td>\n",
       "    </tr>\n",
       "    <tr>\n",
       "      <th>6</th>\n",
       "      <td>Asia/Tokyo</td>\n",
       "      <td>WindowNiHai</td>\n",
       "      <td>16.0</td>\n",
       "    </tr>\n",
       "    <tr>\n",
       "      <th>7</th>\n",
       "      <td>Asia/Tokyo</td>\n",
       "      <td>WindowsHaiBhai</td>\n",
       "      <td>21.0</td>\n",
       "    </tr>\n",
       "    <tr>\n",
       "      <th>8</th>\n",
       "      <td>Europe/London</td>\n",
       "      <td>WindowNiHai</td>\n",
       "      <td>35.0</td>\n",
       "    </tr>\n",
       "    <tr>\n",
       "      <th>9</th>\n",
       "      <td>Europe/London</td>\n",
       "      <td>WindowsHaiBhai</td>\n",
       "      <td>37.0</td>\n",
       "    </tr>\n",
       "  </tbody>\n",
       "</table>\n",
       "</div>"
      ],
      "text/plain": [
       "                  tz              os  Total\n",
       "0  America/Sao_Paulo     WindowNiHai   15.0\n",
       "1  America/Sao_Paulo  WindowsHaiBhai   18.0\n",
       "2      Europe/Madrid     WindowNiHai   16.0\n",
       "3      Europe/Madrid  WindowsHaiBhai   18.0\n",
       "4   Pacific/Honolulu     WindowNiHai   15.0\n",
       "5   Pacific/Honolulu  WindowsHaiBhai   20.0\n",
       "6         Asia/Tokyo     WindowNiHai   16.0\n",
       "7         Asia/Tokyo  WindowsHaiBhai   21.0\n",
       "8      Europe/London     WindowNiHai   35.0\n",
       "9      Europe/London  WindowsHaiBhai   37.0"
      ]
     },
     "execution_count": 27,
     "metadata": {},
     "output_type": "execute_result"
    }
   ],
   "source": [
    "d_graph = final.stack().reset_index()\n",
    "d_graph.rename(columns = {0:'Total'}, inplace ='True')\n",
    "d_graph.head(10)"
   ]
  },
  {
   "cell_type": "code",
   "execution_count": 28,
   "id": "8818c8de",
   "metadata": {},
   "outputs": [
    {
     "data": {
      "text/plain": [
       "<Axes: xlabel='Total', ylabel='tz'>"
      ]
     },
     "execution_count": 28,
     "metadata": {},
     "output_type": "execute_result"
    },
    {
     "data": {
      "image/png": "[encoded data removed]",
      "text/plain": [
       "<Figure size 640x480 with 1 Axes>"
      ]
     },
     "metadata": {},
     "output_type": "display_data"
    }
   ],
   "source": [
    "sns.barplot(x='Total',y='tz',data=d_graph,hue='os')"
   ]
  },
  {
   "cell_type": "markdown",
   "id": "66f366c9",
   "metadata": {},
   "source": [
    "<span style=\"font-size:24px; font-weight:bold\">Top Devices Used for URL Shortening</span>\n"
   ]
  },
  {
   "cell_type": "code",
   "execution_count": 29,
   "id": "f5d406b2",
   "metadata": {},
   "outputs": [
    {
     "data": {
      "application/vnd.microsoft.datawrangler.viewer.v0+json": {
       "columns": [
        {
         "name": "index",
         "rawType": "object",
         "type": "string"
        },
        {
         "name": "count",
         "rawType": "int64",
         "type": "integer"
        }
       ],
       "ref": "a039afd0-f0b5-4b57-80c0-36e410bef81d",
       "rows": [
        [
         "Mozilla/5.0",
         "2161"
        ],
        [
         "Mozilla/4.0",
         "556"
        ],
        [
         "Unknown",
         "521"
        ],
        [
         "GoogleMaps/RochesterNY",
         "121"
        ],
        [
         "TEST_INTERNET_AGENT",
         "24"
        ]
       ],
       "shape": {
        "columns": 1,
        "rows": 5
       }
      },
      "text/plain": [
       "Mozilla/5.0               2161\n",
       "Mozilla/4.0                556\n",
       "Unknown                    521\n",
       "GoogleMaps/RochesterNY     121\n",
       "TEST_INTERNET_AGENT         24\n",
       "Name: count, dtype: int64"
      ]
     },
     "execution_count": 29,
     "metadata": {},
     "output_type": "execute_result"
    }
   ],
   "source": [
    "dev = list(a_data['a'])\n",
    "splitted = [x.split()[0] for x in dev]\n",
    "subset_data = pd.Series(splitted).value_counts().nlargest(5)\n",
    "subset_data"
   ]
  },
  {
   "cell_type": "code",
   "execution_count": 30,
   "id": "6d276c7e",
   "metadata": {},
   "outputs": [
    {
     "data": {
      "text/plain": [
       "<Axes: ylabel='None'>"
      ]
     },
     "execution_count": 30,
     "metadata": {},
     "output_type": "execute_result"
    },
    {
     "data": {
      "image/png": "[encoded data removed]",
      "text/plain": [
       "<Figure size 640x480 with 1 Axes>"
      ]
     },
     "metadata": {},
     "output_type": "display_data"
    }
   ],
   "source": [
    "sns.barplot(x=subset_data.to_numpy(),y=subset_data.index)"
   ]
  }
 ],
 "metadata": {
  "kernelspec": {
   "display_name": "Python 3",
   "language": "python",
   "name": "python3"
  },
  "language_info": {
   "codemirror_mode": {
    "name": "ipython",
    "version": 3
   },
   "file_extension": ".py",
   "mimetype": "text/x-python",
   "name": "python",
   "nbconvert_exporter": "python",
   "pygments_lexer": "ipython3",
   "version": "3.12.10"
  }
 },
 "nbformat": 4,
 "nbformat_minor": 5
}
